{
 "cells": [
  {
   "cell_type": "code",
   "execution_count": 28,
   "metadata": {},
   "outputs": [
    {
     "name": "stdout",
     "output_type": "stream",
     "text": [
      "2036 3 1\n"
     ]
    }
   ],
   "source": [
    "years = int(input(\"년도를 입력해주세요:\"))\n",
    "mon = int(input(\"월을 입력해주세요:\"))\n",
    "day = int(input(\"일을 입력해주세요:\"))\n",
    "days = 5000\n",
    "while True:\n",
    "    if days > 365 and years % 4 != 0 :\n",
    "        days -= 365\n",
    "        years += 1\n",
    "    elif days > 365 and years % 4 == 0:\n",
    "        days -= 366\n",
    "        years += 1\n",
    "    else :\n",
    "        break\n",
    "while True:\n",
    "    if mon % 2 == 0 and mon != 2 and days > 30:\n",
    "        days = days - 30 + day\n",
    "        day = 0\n",
    "        mon += 1\n",
    "    elif mon % 2 != 0 and days > 31:\n",
    "        days = days - 31 + day\n",
    "        day = 0\n",
    "        mon += 1\n",
    "    elif mon == 2 and days > 29:\n",
    "        days = days - 29 + day\n",
    "        day = 0\n",
    "        mon += 1 \n",
    "    else :\n",
    "        break\n",
    "if mon > 12 :\n",
    "    print(years + 1, mon - 12, days - 1)\n",
    "else:\n",
    "    print(years, mon, days -1)"
   ]
  }
 ],
 "metadata": {
  "interpreter": {
   "hash": "aee8b7b246df8f9039afb4144a1f6fd8d2ca17a180786b69acc140d282b71a49"
  },
  "kernelspec": {
   "display_name": "Python 3.10.4 64-bit",
   "language": "python",
   "name": "python3"
  },
  "language_info": {
   "codemirror_mode": {
    "name": "ipython",
    "version": 3
   },
   "file_extension": ".py",
   "mimetype": "text/x-python",
   "name": "python",
   "nbconvert_exporter": "python",
   "pygments_lexer": "ipython3",
   "version": "3.10.4"
  },
  "orig_nbformat": 4
 },
 "nbformat": 4,
 "nbformat_minor": 2
}
