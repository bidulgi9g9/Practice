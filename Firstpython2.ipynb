{
 "cells": [
  {
   "cell_type": "code",
   "execution_count": 1,
   "metadata": {},
   "outputs": [
    {
     "ename": "SyntaxError",
     "evalue": "invalid syntax (3475429873.py, line 3)",
     "output_type": "error",
     "traceback": [
      "\u001b[0;36m  File \u001b[0;32m\"/var/folders/s0/8sttx5054jsbx49qmvk1hd100000gn/T/ipykernel_27442/3475429873.py\"\u001b[0;36m, line \u001b[0;32m3\u001b[0m\n\u001b[0;31m    import urllib.request import urlopen\u001b[0m\n\u001b[0m                          ^\u001b[0m\n\u001b[0;31mSyntaxError\u001b[0m\u001b[0;31m:\u001b[0m invalid syntax\n"
     ]
    }
   ],
   "source": [
    "import webbrowser\n",
    "import json\n",
    "import urllib.request import urlopen\n",
    "\n",
    "print(\"Let's find an old websits.\")\n",
    "site =  input(\"Type a site URL:\")\n",
    "era =  input(\"Type a year, month, and day, like 20220101:\")\n",
    "url = \"http://archive.org/wayback/available?url=%s&timestamp=%s\" % (site, era)\n",
    "response = urlopen(url)\n",
    "contents = response.read()\n",
    "text = contents.decode(\"utf-8\")\n",
    "data = json.loads(text)\n",
    "try:\n",
    "    old_site = data[\"archvied_snapshots\"][\"closest\"][\"url\"]\n",
    "    print(\"Found this copy:\", old_site)\n",
    "    print(\"It should appear in your browesr now.\")\n",
    "    webbrowser.open(old_site)\n",
    "except:\n",
    "    print(\"Sorry, no luck finding\", site)\n"
   ]
  }
 ],
 "metadata": {
  "interpreter": {
   "hash": "7770115da8a6507e10371d1542876678efabf60ddb3d2873f3c6089af8c1e530"
  },
  "kernelspec": {
   "display_name": "Python 3.9.7 ('base')",
   "language": "python",
   "name": "python3"
  },
  "language_info": {
   "codemirror_mode": {
    "name": "ipython",
    "version": 3
   },
   "file_extension": ".py",
   "mimetype": "text/x-python",
   "name": "python",
   "nbconvert_exporter": "python",
   "pygments_lexer": "ipython3",
   "version": "3.9.7"
  },
  "orig_nbformat": 4
 },
 "nbformat": 4,
 "nbformat_minor": 2
}
