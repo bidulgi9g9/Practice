{
 "cells": [
  {
   "cell_type": "code",
   "execution_count": 19,
   "metadata": {},
   "outputs": [
    {
     "name": "stdout",
     "output_type": "stream",
     "text": [
      "3과 7의 공배수 : 21\n",
      "3과 7의 공배수 : 42\n",
      "3과 7의 공배수 : 63\n",
      "3과 7의 공배수 : 84\n",
      "3과 7의 최소공배수 : 21\n"
     ]
    }
   ],
   "source": [
    "for i in range(1, 101) :\n",
    "    if i % 3 == 0 and i % 7 == 0:\n",
    "        print(\"3과 7의 공배수 :\", i)\n",
    "print(\"3과 7의 최소공배수 :\", 3 * 7) \n"
   ]
  },
  {
   "cell_type": "code",
   "execution_count": 22,
   "metadata": {},
   "outputs": [
    {
     "name": "stdout",
     "output_type": "stream",
     "text": [
      "40점 미만 과목수: 2\n",
      "평균 점수: 49.166666666666664\n",
      "아쉽습니다. 불합격하셨습니다.\n"
     ]
    }
   ],
   "source": [
    "score = [55, 35, 40, 70, 65, 30]\n",
    "cnt = 0\n",
    "result = 0\n",
    "for i in score :\n",
    "    if i < 40 :\n",
    "        cnt += 1\n",
    "print(\"40점 미만 과목수:\", cnt)\n",
    "\n",
    "for i in score :\n",
    "    result += i\n",
    "print(\"평균 점수:\", result/len(score))\n",
    "\n",
    "if cnt == 0 and result/len(score) >= 60:\n",
    "    print(\"축하합니다 합격하셨습니다.\")\n",
    "else :\n",
    "    print(\"아쉽습니다. 불합격하셨습니다.\")\n",
    "    "
   ]
  },
  {
   "cell_type": "code",
   "execution_count": null,
   "metadata": {},
   "outputs": [],
   "source": []
  }
 ],
 "metadata": {
  "interpreter": {
   "hash": "958b8b4af93511b7ef0a546f7c12d86ebe0b5505afeba901c98054f2e7745e91"
  },
  "kernelspec": {
   "display_name": "Python 3.9.7 ('base')",
   "language": "python",
   "name": "python3"
  },
  "language_info": {
   "codemirror_mode": {
    "name": "ipython",
    "version": 3
   },
   "file_extension": ".py",
   "mimetype": "text/x-python",
   "name": "python",
   "nbconvert_exporter": "python",
   "pygments_lexer": "ipython3",
   "version": "3.9.7"
  },
  "orig_nbformat": 4
 },
 "nbformat": 4,
 "nbformat_minor": 2
}
