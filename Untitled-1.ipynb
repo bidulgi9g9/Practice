{
 "cells": [
  {
   "cell_type": "code",
   "execution_count": 1,
   "metadata": {},
   "outputs": [
    {
     "name": "stdout",
     "output_type": "stream",
     "text": [
      "Hello world\n"
     ]
    }
   ],
   "source": [
    "#처음시작하는 파이썬 예제들 연습용\n",
    "print(\"Hello world\")"
   ]
  },
  {
   "cell_type": "code",
   "execution_count": 2,
   "metadata": {},
   "outputs": [
    {
     "name": "stdout",
     "output_type": "stream",
     "text": [
      "5\n",
      "4\n",
      "3\n",
      "2\n",
      "1\n",
      "hey\n"
     ]
    }
   ],
   "source": [
    "for countdown in 5,4,3,2,1,\"hey\" : \n",
    "    print(countdown)"
   ]
  },
  {
   "cell_type": "code",
   "execution_count": 2,
   "metadata": {},
   "outputs": [
    {
     "name": "stdout",
     "output_type": "stream",
     "text": [
      "Expecto Patronum !\n"
     ]
    }
   ],
   "source": [
    "#list는 개별 단어들을 문자열 형태로 저장 대괄호를 사용한다.\n",
    "spells = [\n",
    "    \"Riddikulus !\",\n",
    "    \"Wingardium Leviosa !\",\n",
    "    \"Avada Kedavra !\",\n",
    "    \"Expecto Patronum !\",\n",
    "    \"Nox !\",\n",
    "    \"Lumos !\",\n",
    "]\n",
    "print(spells[3])\n"
   ]
  },
  {
   "cell_type": "code",
   "execution_count": 4,
   "metadata": {},
   "outputs": [
    {
     "name": "stdout",
     "output_type": "stream",
     "text": [
      "Curly says: Nyuk nyuk!\n"
     ]
    }
   ],
   "source": [
    "#딕셔너리는 문장을저장하고 중괄호를 사용한다.\n",
    "quotes = {\n",
    "    \"Moe\" : \"A wise guy, huh?\",\n",
    "    \"Larrt\" : \"Ow!\",\n",
    "    \"Curly\" : \"Nyuk nyuk!\",\n",
    "}\n",
    "\n",
    "stooge = \"Curly\"\n",
    "print(stooge,\"says:\",quotes[stooge])"
   ]
  },
  {
   "cell_type": "code",
   "execution_count": null,
   "metadata": {},
   "outputs": [],
   "source": []
  }
 ],
 "metadata": {
  "interpreter": {
   "hash": "7770115da8a6507e10371d1542876678efabf60ddb3d2873f3c6089af8c1e530"
  },
  "kernelspec": {
   "display_name": "Python 3.9.7 ('base')",
   "language": "python",
   "name": "python3"
  },
  "language_info": {
   "codemirror_mode": {
    "name": "ipython",
    "version": 3
   },
   "file_extension": ".py",
   "mimetype": "text/x-python",
   "name": "python",
   "nbconvert_exporter": "python",
   "pygments_lexer": "ipython3",
   "version": "3.9.7"
  },
  "orig_nbformat": 4
 },
 "nbformat": 4,
 "nbformat_minor": 2
}
