{
 "cells": [
  {
   "cell_type": "code",
   "execution_count": 1,
   "metadata": {},
   "outputs": [
    {
     "name": "stdout",
     "output_type": "stream",
     "text": [
      "Hello world\n"
     ]
    }
   ],
   "source": [
    "#처음시작하는 파이썬 예제들 연습용\n",
    "print(\"Hello world\")"
   ]
  },
  {
   "cell_type": "code",
   "execution_count": 2,
   "metadata": {},
   "outputs": [
    {
     "name": "stdout",
     "output_type": "stream",
     "text": [
      "5\n",
      "4\n",
      "3\n",
      "2\n",
      "1\n",
      "hey\n"
     ]
    }
   ],
   "source": [
    "for countdown in 5,4,3,2,1,\"hey\" : \n",
    "    print(countdown)"
   ]
  },
  {
   "cell_type": "code",
   "execution_count": 2,
   "metadata": {},
   "outputs": [
    {
     "name": "stdout",
     "output_type": "stream",
     "text": [
      "Expecto Patronum !\n"
     ]
    }
   ],
   "source": [
    "#list는 개별 단어들을 문자열 형태로 저장 대괄호를 사용한다.\n",
    "spells = [\n",
    "    \"Riddikulus !\",\n",
    "    \"Wingardium Leviosa !\",\n",
    "    \"Avada Kedavra !\",\n",
    "    \"Expecto Patronum !\",\n",
    "    \"Nox !\",\n",
    "    \"Lumos !\",\n",
    "]\n",
    "print(spells[3])\n"
   ]
  },
  {
   "cell_type": "code",
   "execution_count": 4,
   "metadata": {},
   "outputs": [
    {
     "name": "stdout",
     "output_type": "stream",
     "text": [
      "Curly says: Nyuk nyuk!\n"
     ]
    }
   ],
   "source": [
    "#딕셔너리는 문장을저장하고 중괄호를 사용한다.\n",
    "quotes = {\n",
    "    \"Moe\" : \"A wise guy, huh?\",\n",
    "    \"Larrt\" : \"Ow!\",\n",
    "    \"Curly\" : \"Nyuk nyuk!\",\n",
    "}\n",
    "\n",
    "stooge = \"Curly\"\n",
    "print(stooge,\"says:\",quotes[stooge])"
   ]
  },
  {
   "cell_type": "code",
   "execution_count": 1,
   "metadata": {},
   "outputs": [
    {
     "data": {
      "text/plain": [
       "['False',\n",
       " 'None',\n",
       " 'True',\n",
       " '__peg_parser__',\n",
       " 'and',\n",
       " 'as',\n",
       " 'assert',\n",
       " 'async',\n",
       " 'await',\n",
       " 'break',\n",
       " 'class',\n",
       " 'continue',\n",
       " 'def',\n",
       " 'del',\n",
       " 'elif',\n",
       " 'else',\n",
       " 'except',\n",
       " 'finally',\n",
       " 'for',\n",
       " 'from',\n",
       " 'global',\n",
       " 'if',\n",
       " 'import',\n",
       " 'in',\n",
       " 'is',\n",
       " 'lambda',\n",
       " 'nonlocal',\n",
       " 'not',\n",
       " 'or',\n",
       " 'pass',\n",
       " 'raise',\n",
       " 'return',\n",
       " 'try',\n",
       " 'while',\n",
       " 'with',\n",
       " 'yield']"
      ]
     },
     "execution_count": 1,
     "metadata": {},
     "output_type": "execute_result"
    }
   ],
   "source": [
    "import keyword\n",
    "keyword.kwlist"
   ]
  }
 ],
 "metadata": {
  "interpreter": {
   "hash": "7770115da8a6507e10371d1542876678efabf60ddb3d2873f3c6089af8c1e530"
  },
  "kernelspec": {
   "display_name": "Python 3.9.7 ('base')",
   "language": "python",
   "name": "python3"
  },
  "language_info": {
   "codemirror_mode": {
    "name": "ipython",
    "version": 3
   },
   "file_extension": ".py",
   "mimetype": "text/x-python",
   "name": "python",
   "nbconvert_exporter": "python",
   "pygments_lexer": "ipython3",
   "version": "3.9.7"
  },
  "orig_nbformat": 4
 },
 "nbformat": 4,
 "nbformat_minor": 2
}
